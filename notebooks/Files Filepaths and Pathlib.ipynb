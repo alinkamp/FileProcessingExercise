{
 "cells": [
  {
   "cell_type": "code",
   "execution_count": 3,
   "metadata": {},
   "outputs": [],
   "source": [
    "from pathlib import Path"
   ]
  },
  {
   "cell_type": "markdown",
   "metadata": {},
   "source": [
    "# Working with File Paths"
   ]
  },
  {
   "cell_type": "markdown",
   "metadata": {},
   "source": [
    "## Dessecting File Paths into components using the PathLib package\n",
    "\n",
    "Lookup:  Drive, Directory, Name, Extension, etc\n",
    "\n",
    "  - Path.name\n",
    "  - filename.stem\n",
    "  - path.parent\n",
    "  - Path.suffix, Path.suffixes\n",
    "  - Path.parts\n",
    "\n",
    "Transform:\n",
    "\n",
    "   - Path.with_name(\"new_name.txt\")\n",
    "   - Path.with_suffix(\".tif\")\n",
    "\n",
    "Check on Filesystem:\n",
    "\n",
    "   - Path.exists()\n",
    "   - Path.is_dir()\n",
    "   - Path.is_file()   \n"
   ]
  },
  {
   "cell_type": "markdown",
   "metadata": {},
   "source": [
    "#### Exercise\n",
    "\n",
    "Using the following Path, extract the following information"
   ]
  },
  {
   "cell_type": "code",
   "execution_count": 8,
   "metadata": {},
   "outputs": [
    {
     "output_type": "stream",
     "name": "stdout",
     "text": [
      "\\usr\\home\\nick\\Desktop\\MyExperiment\\data\n"
     ]
    }
   ],
   "source": [
    "filename = Path(\"/usr/home/nick/Desktop/MyExperiment/data/nick_session1_day2.jpg\")\n",
    "print(filename.parent)"
   ]
  },
  {
   "cell_type": "markdown",
   "metadata": {},
   "source": [
    "#### What directory is this file located in?"
   ]
  },
  {
   "cell_type": "code",
   "execution_count": 9,
   "metadata": {},
   "outputs": [
    {
     "output_type": "stream",
     "name": "stdout",
     "text": [
      "\\usr\\home\\nick\\Desktop\\MyExperiment\\data\n"
     ]
    }
   ],
   "source": [
    "print(filename.parent)"
   ]
  },
  {
   "cell_type": "markdown",
   "metadata": {},
   "source": [
    "#### What is the filename (without the directory)?"
   ]
  },
  {
   "cell_type": "code",
   "execution_count": 10,
   "metadata": {},
   "outputs": [
    {
     "output_type": "stream",
     "name": "stdout",
     "text": [
      "nick_session1_day2.jpg\n"
     ]
    }
   ],
   "source": [
    "print(filename.name)"
   ]
  },
  {
   "cell_type": "markdown",
   "metadata": {},
   "source": [
    "#### What is the file extension?"
   ]
  },
  {
   "cell_type": "code",
   "execution_count": 11,
   "metadata": {},
   "outputs": [
    {
     "output_type": "stream",
     "name": "stdout",
     "text": [
      ".jpg\n"
     ]
    }
   ],
   "source": [
    "print(filename.suffix)"
   ]
  },
  {
   "cell_type": "markdown",
   "metadata": {},
   "source": [
    "#### What is the filename (without the extension)?"
   ]
  },
  {
   "cell_type": "code",
   "execution_count": 20,
   "metadata": {},
   "outputs": [
    {
     "output_type": "execute_result",
     "data": {
      "text/plain": [
       "WindowsPath('/usr/home/nick/Desktop/MyExperiment/data/nick_session1_day2.txt')"
      ]
     },
     "metadata": {},
     "execution_count": 20
    }
   ],
   "source": [
    "name_wo_suffix = filename.stem\n",
    "# print(filename.name + filename.suffix)\n"
   ]
  },
  {
   "cell_type": "markdown",
   "metadata": {},
   "source": [
    "#### Get the Path, but with a \".txt\" extension instead."
   ]
  },
  {
   "cell_type": "code",
   "execution_count": 21,
   "metadata": {},
   "outputs": [
    {
     "output_type": "execute_result",
     "data": {
      "text/plain": [
       "WindowsPath('/usr/home/nick/Desktop/MyExperiment/data/nick_session1_day2.txt')"
      ]
     },
     "metadata": {},
     "execution_count": 21
    }
   ],
   "source": [
    "name_w_suffix = filename.with_suffix(\".txt\")\n",
    "name_w_suffix"
   ]
  },
  {
   "cell_type": "markdown",
   "metadata": {},
   "source": [
    "#### Make a new filename \"data2.jpg\" in the same directory"
   ]
  },
  {
   "cell_type": "code",
   "execution_count": 32,
   "metadata": {},
   "outputs": [
    {
     "output_type": "execute_result",
     "data": {
      "text/plain": [
       "WindowsPath('/usr/home/nick/Desktop/MyExperiment/data/data2.jpg')"
      ]
     },
     "metadata": {},
     "execution_count": 32
    }
   ],
   "source": [
    "filepath = filename.parent\n",
    "new_file = filename.with_name(\"data2.jpg\")\n",
    "new_file\n"
   ]
  },
  {
   "cell_type": "markdown",
   "metadata": {},
   "source": [
    "#### Does the filename exist (the original one, not the new ones)?"
   ]
  },
  {
   "cell_type": "code",
   "execution_count": 33,
   "metadata": {},
   "outputs": [
    {
     "output_type": "execute_result",
     "data": {
      "text/plain": [
       "False"
      ]
     },
     "metadata": {},
     "execution_count": 33
    }
   ],
   "source": [
    "filename.exists()\n"
   ]
  },
  {
   "cell_type": "markdown",
   "metadata": {},
   "source": [
    "## Joining Paths\n",
    "\n",
    "From scratch:\n",
    "\n",
    "   - Path(\"\").joinpath(\"home\").joinpath(\"nick\")\n",
    "   - Path(\"\").joinpath(\"home/nick\")\n",
    "   - Path(\"home\") / \"nick\"\n",
    "\n",
    "From an existing directory:\n",
    "\n",
    "   - Path.cwd()\n",
    "   - Path.home()\n",
    "\n",
    "Files in a directory:\n",
    "\n",
    "   - list(Path.home().iterdir())\n",
    "   - Path.home().glob(\"*.txt\")\n",
    "\n",
    "\n",
    "   "
   ]
  },
  {
   "cell_type": "markdown",
   "metadata": {},
   "source": [
    "### Exercises"
   ]
  },
  {
   "cell_type": "markdown",
   "metadata": {},
   "source": [
    "#### What is your home directory?"
   ]
  },
  {
   "cell_type": "code",
   "execution_count": 34,
   "metadata": {},
   "outputs": [
    {
     "output_type": "execute_result",
     "data": {
      "text/plain": [
       "WindowsPath('C:/Users/212752690')"
      ]
     },
     "metadata": {},
     "execution_count": 34
    }
   ],
   "source": [
    "Path.home()"
   ]
  },
  {
   "cell_type": "markdown",
   "metadata": {},
   "source": [
    "### What is the current directory?"
   ]
  },
  {
   "cell_type": "code",
   "execution_count": 35,
   "metadata": {},
   "outputs": [
    {
     "output_type": "execute_result",
     "data": {
      "text/plain": [
       "WindowsPath('c:/Users/212752690/Documents/Software/github/FileProcessingExercise/notebooks')"
      ]
     },
     "metadata": {},
     "execution_count": 35
    }
   ],
   "source": [
    "Path.cwd()"
   ]
  },
  {
   "cell_type": "markdown",
   "metadata": {},
   "source": [
    "### How many files are on your desktop?"
   ]
  },
  {
   "cell_type": "code",
   "execution_count": 43,
   "metadata": {},
   "outputs": [
    {
     "output_type": "execute_result",
     "data": {
      "text/plain": [
       "73"
      ]
     },
     "metadata": {},
     "execution_count": 43
    }
   ],
   "source": [
    "DeskTop_Path=Path(\"Desktop\")\n",
    "DeskTop_Path\n",
    "#list(DeskTop_Path.home().iZerdir()).count\n",
    "file_list=list(Path.home().joinpath(\"Desktop\").iterdir())\n",
    "len(file_list  )      "
   ]
  },
  {
   "cell_type": "markdown",
   "metadata": {},
   "source": [
    "### What is the name of the .tif files in the data/raw folder?"
   ]
  },
  {
   "cell_type": "code",
   "execution_count": 52,
   "metadata": {},
   "outputs": [
    {
     "output_type": "execute_result",
     "data": {
      "text/plain": [
       "[WindowsPath('../data/raw/species.txt')]"
      ]
     },
     "metadata": {},
     "execution_count": 52
    }
   ],
   "source": [
    "tif_path=Path(\"../data/raw\")\n",
    "tif_path.exists()\n",
    "tif_files=tif_path.glob(\"*.txt\")\n",
    "list(tif_files)"
   ]
  },
  {
   "cell_type": "markdown",
   "metadata": {},
   "source": [
    "### How many image files are in the data/raw folder?"
   ]
  },
  {
   "cell_type": "code",
   "execution_count": 56,
   "metadata": {},
   "outputs": [
    {
     "output_type": "execute_result",
     "data": {
      "text/plain": [
       "0"
      ]
     },
     "metadata": {},
     "execution_count": 56
    }
   ],
   "source": [
    "image_files=len(list(tif_path.glob(\"*.tif\")))+len(list(tif_path.glob(\"*.jpeg\")))\n",
    "image_files"
   ]
  },
  {
   "cell_type": "markdown",
   "metadata": {},
   "source": []
  },
  {
   "cell_type": "markdown",
   "metadata": {},
   "source": [
    "## Making Paths Real\n",
    "\n",
    "### New (Empty) File Creation:  \n",
    "\n",
    "  - Path(\"mypath.txt\").touch()\n",
    "  - Path(\"mypath.txt\").open(mode=\"w\")\n",
    "  \n",
    "### New Folder Creation: \n",
    "\n",
    "  - Path(\"myfolder\").mkdir()\n",
    "  - Path(\"myfolder\").mkdir(exist_ok=True)\n",
    "  - Path(\"myfolder1/myfolder2/myfolder3\").mkdir(parents=True)\n",
    "   \n",
    "### Opening, Reading, Writing to a File:\n",
    "\n",
    "#### Text Data:\n",
    "\n",
    "  - text = Path(\"myfile.txt\").read_text()\n",
    "  - text = Path(\"myfile.txt\").write_text()\n",
    "  - text = Path(\"myfile.txt\").open(mode=\"r\").read()\n",
    "  - Path(\"myfile.txt\").open(mode=\"w\").write(text)\n",
    "\n",
    "#### Binary (raw bytes) Data:\n",
    "\n",
    "  - raw = Path(\"myfile.dat\").read_bytes()\n",
    "  - raw = Path(\"myfile.data\").write_bytes()\n",
    "  - raw = Path(\"myfile.dat\").open(mode=\"rb\").read()\n",
    "  - Path(\"myfile.dat\").open(mode=\"wb\").write(raw)\n",
    "  \n",
    "  \n",
    "  \n",
    "  "
   ]
  },
  {
   "cell_type": "code",
   "execution_count": null,
   "metadata": {},
   "outputs": [],
   "source": []
  },
  {
   "cell_type": "markdown",
   "metadata": {},
   "source": [
    "### Exercises"
   ]
  },
  {
   "cell_type": "markdown",
   "metadata": {},
   "source": [
    "Make a \"Hello Beautiful World\" text file: **hello.txt**."
   ]
  },
  {
   "cell_type": "code",
   "execution_count": 59,
   "metadata": {},
   "outputs": [
    {
     "output_type": "execute_result",
     "data": {
      "text/plain": [
       "21"
      ]
     },
     "metadata": {},
     "execution_count": 59
    }
   ],
   "source": [
    "Path(\"hello.txt\").touch()\n",
    "Path(\"hello.txt\").write_text(\"Hello Beautiful World\")\n"
   ]
  },
  {
   "cell_type": "markdown",
   "metadata": {},
   "source": [
    "Make a \"Goodby Cruel World\" text file: **bye.txt**, using a different method."
   ]
  },
  {
   "cell_type": "code",
   "execution_count": 60,
   "metadata": {},
   "outputs": [
    {
     "output_type": "execute_result",
     "data": {
      "text/plain": [
       "18"
      ]
     },
     "metadata": {},
     "execution_count": 60
    }
   ],
   "source": [
    "Path(\"bye.txt\").open(mode=\"w\").write(\"Goodby Cruel World\")"
   ]
  },
  {
   "cell_type": "markdown",
   "metadata": {},
   "source": [
    "Read from your hello file to a string variable and display the contents"
   ]
  },
  {
   "cell_type": "code",
   "execution_count": 63,
   "metadata": {},
   "outputs": [
    {
     "output_type": "execute_result",
     "data": {
      "text/plain": [
       "'Hello Beautiful World'"
      ]
     },
     "metadata": {},
     "execution_count": 63
    }
   ],
   "source": [
    "hello_content=Path(\"hello.txt\").open(mode=\"r\").read()\n",
    "hello_content"
   ]
  },
  {
   "cell_type": "markdown",
   "metadata": {},
   "source": [
    "Using a different method, read from your bye file to a string variable and display the contents."
   ]
  },
  {
   "cell_type": "code",
   "execution_count": 64,
   "metadata": {},
   "outputs": [
    {
     "output_type": "execute_result",
     "data": {
      "text/plain": [
       "'Goodby Cruel World'"
      ]
     },
     "metadata": {},
     "execution_count": 64
    }
   ],
   "source": [
    "text = Path(\"bye.txt\").read_text()\n",
    "text"
   ]
  },
  {
   "cell_type": "code",
   "execution_count": null,
   "metadata": {},
   "outputs": [],
   "source": []
  }
 ],
 "metadata": {
  "kernelspec": {
   "name": "python388jvsc74a57bd019e7c367bb29ec00ac601e1c37b20cc7949eacabf7a3b25237aa6406a0f4b260",
   "display_name": "Python 3.8.8 64-bit"
  },
  "language_info": {
   "codemirror_mode": {
    "name": "ipython",
    "version": 3
   },
   "file_extension": ".py",
   "mimetype": "text/x-python",
   "name": "python",
   "nbconvert_exporter": "python",
   "pygments_lexer": "ipython3",
   "version": "3.8.8"
  },
  "metadata": {
   "interpreter": {
    "hash": "19e7c367bb29ec00ac601e1c37b20cc7949eacabf7a3b25237aa6406a0f4b260"
   }
  }
 },
 "nbformat": 4,
 "nbformat_minor": 4
}